{
  "cells": [
    {
      "cell_type": "markdown",
      "metadata": {},
      "source": [
        "\n# Get specific electrodes and use aliases\n\n.. currentmodule:: eeg_positions\n"
      ]
    },
    {
      "cell_type": "markdown",
      "metadata": {},
      "source": [
        "We need to import some functions\n\n"
      ]
    },
    {
      "cell_type": "code",
      "execution_count": null,
      "metadata": {
        "collapsed": false
      },
      "outputs": [],
      "source": [
        "from pprint import pprint\n\nfrom eeg_positions import (\n    get_alias_mapping,\n    get_available_elec_names,\n    get_elec_coords,\n    plot_coords,\n)"
      ]
    },
    {
      "cell_type": "markdown",
      "metadata": {},
      "source": [
        "Let's assume we need only a small subset of electrodes for our work.\nWe can print all available electrode names in ``eeg_positions``.\n\n"
      ]
    },
    {
      "cell_type": "code",
      "execution_count": null,
      "metadata": {
        "collapsed": false
      },
      "outputs": [],
      "source": [
        "elec_names = get_available_elec_names()\npprint(elec_names[::-1])"
      ]
    },
    {
      "cell_type": "markdown",
      "metadata": {},
      "source": [
        "A keen eye may have identified some \"odd\" electrodes, that are not really part\nof the 10-20, 10-10, or 10-05 systems: ``'A1', 'A2', 'M1', 'M2'``\n\nThese are supplied with ``eeg_positions`` for convenience as so-called \"alias\"\npositions. See below:\n\n"
      ]
    },
    {
      "cell_type": "code",
      "execution_count": null,
      "metadata": {
        "collapsed": false
      },
      "outputs": [],
      "source": [
        "alias_mapping = get_alias_mapping()\nfor key, val in alias_mapping.items():\n    print(f\"{key}: {val}\")"
      ]
    },
    {
      "cell_type": "markdown",
      "metadata": {},
      "source": [
        "We see that for example `A1` is mapped to a position near the left preauricular point\n(LPA). This position is meant to reflect that the A1 electrode is typically a clip-on\nelectrode applied to the earlobe.\n\nSimilarly, the `M1` electrode is typically applied to the left mastoid on the head of\na study participant. Its position approximately coincides with the `TP9` position.\n\n**But now back to the topic: We want to get coordinates for a small subset of\nelectrodes!**\n\n"
      ]
    },
    {
      "cell_type": "code",
      "execution_count": null,
      "metadata": {
        "collapsed": false
      },
      "outputs": [],
      "source": [
        "# Just use `elec_names`\ncoords = get_elec_coords(\n    elec_names=[\"A1\", \"A2\", \"FC3\", \"CP4\", \"M1\", \"LPA\", \"RPA\", \"T10\"],\n    drop_landmarks=False,\n    dim=\"3d\",\n)\n\ncoords.head()"
      ]
    },
    {
      "cell_type": "markdown",
      "metadata": {},
      "source": [
        "Plot it, and see how close LPA and A1 (and RPA and A2) are in space.\n\n"
      ]
    },
    {
      "cell_type": "code",
      "execution_count": null,
      "metadata": {
        "collapsed": false
      },
      "outputs": [],
      "source": [
        "fig, ax = plot_coords(coords, text_kwargs=dict(fontsize=10))\n\nax.axis(\"off\")\nfig"
      ]
    }
  ],
  "metadata": {
    "kernelspec": {
      "display_name": "Python 3",
      "language": "python",
      "name": "python3"
    },
    "language_info": {
      "codemirror_mode": {
        "name": "ipython",
        "version": 3
      },
      "file_extension": ".py",
      "mimetype": "text/x-python",
      "name": "python",
      "nbconvert_exporter": "python",
      "pygments_lexer": "ipython3",
      "version": "3.10.12"
    }
  },
  "nbformat": 4,
  "nbformat_minor": 0
}