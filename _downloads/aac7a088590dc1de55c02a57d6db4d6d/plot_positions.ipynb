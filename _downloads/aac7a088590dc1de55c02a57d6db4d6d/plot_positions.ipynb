{
  "cells": [
    {
      "cell_type": "code",
      "execution_count": null,
      "metadata": {
        "collapsed": false
      },
      "outputs": [],
      "source": [
        "%matplotlib inline"
      ]
    },
    {
      "cell_type": "markdown",
      "metadata": {},
      "source": [
        "\n# Plot electrode positions\n\n.. currentmodule:: eeg_positions\n"
      ]
    },
    {
      "cell_type": "markdown",
      "metadata": {},
      "source": [
        "We need to import some functions.\n\n"
      ]
    },
    {
      "cell_type": "code",
      "execution_count": null,
      "metadata": {
        "collapsed": false
      },
      "outputs": [],
      "source": [
        "from eeg_positions import get_elec_coords, plot_coords"
      ]
    },
    {
      "cell_type": "markdown",
      "metadata": {},
      "source": [
        "Get the electrode positions!\nLet's start with the basic 10-20 system in 2 dimensions (``\"x\"`` and ``\"y\"``).\n\n"
      ]
    },
    {
      "cell_type": "code",
      "execution_count": null,
      "metadata": {
        "collapsed": false
      },
      "outputs": [],
      "source": [
        "coords = get_elec_coords(\n    system=\"1020\",\n    dim=\"2d\",\n)\n\n# `coords` is a pandas.DataFrame object\ncoords.head()"
      ]
    },
    {
      "cell_type": "markdown",
      "metadata": {},
      "source": [
        "Now let's plot these coordinates.\nWe can supply some style arguments to :func:`eeg_positions.plot_coords` to control\nthe color of the scatter dots, and the text annotations.\n\n"
      ]
    },
    {
      "cell_type": "code",
      "execution_count": null,
      "metadata": {
        "collapsed": false
      },
      "outputs": [],
      "source": [
        "fig, ax = plot_coords(\n    coords, scatter_kwargs=dict(color=\"green\"), text_kwargs=dict(fontsize=10)\n)\n\nax.axis(\"off\")\nfig"
      ]
    },
    {
      "cell_type": "markdown",
      "metadata": {},
      "source": [
        "Notice in the above plot, that the \"landmarks\" are there: ``NAS``, ``LPA``,\nand ``RPA``. We can drop these by passing the ``drop_landmarks=True`` to\n:func:`get_elec_coords`.\n\n"
      ]
    },
    {
      "cell_type": "code",
      "execution_count": null,
      "metadata": {
        "collapsed": false
      },
      "outputs": [],
      "source": [
        "coords = get_elec_coords(\n    system=\"1020\",\n    drop_landmarks=True,\n    dim=\"2d\",\n)\n\n\nfig, ax = plot_coords(\n    coords, scatter_kwargs=dict(color=\"green\"), text_kwargs=dict(fontsize=10)\n)\n\nax.axis(\"off\")\nfig"
      ]
    },
    {
      "cell_type": "markdown",
      "metadata": {},
      "source": [
        "We can also plot in 3D. Let's pick a system with more electrodes now.\n\n"
      ]
    },
    {
      "cell_type": "code",
      "execution_count": null,
      "metadata": {
        "collapsed": false
      },
      "outputs": [],
      "source": [
        "coords = get_elec_coords(\n    system=\"1010\",\n    drop_landmarks=True,\n    dim=\"3d\",\n)\n\n\nfig, ax = plot_coords(coords, text_kwargs=dict(fontsize=7))\n\nfig"
      ]
    },
    {
      "cell_type": "markdown",
      "metadata": {},
      "source": [
        "When using these commands from an interactive Python session, try to set\nthe Ipython magic `%matplotlib qt`, which will allow you to freely view the 3d\nplot and rotate the camera.\n\n"
      ]
    }
  ],
  "metadata": {
    "kernelspec": {
      "display_name": "Python 3",
      "language": "python",
      "name": "python3"
    },
    "language_info": {
      "codemirror_mode": {
        "name": "ipython",
        "version": 3
      },
      "file_extension": ".py",
      "mimetype": "text/x-python",
      "name": "python",
      "nbconvert_exporter": "python",
      "pygments_lexer": "ipython3",
      "version": "3.9.13"
    }
  },
  "nbformat": 4,
  "nbformat_minor": 0
}