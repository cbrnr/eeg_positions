{
  "cells": [
    {
      "cell_type": "code",
      "execution_count": null,
      "metadata": {
        "collapsed": false
      },
      "outputs": [],
      "source": [
        "%matplotlib inline"
      ]
    },
    {
      "cell_type": "markdown",
      "metadata": {},
      "source": [
        "\n# Plot electrode positions\n\n.. currentmodule:: eeg_positions\n"
      ]
    },
    {
      "cell_type": "markdown",
      "metadata": {},
      "source": [
        "We need to import some functions.\n\n"
      ]
    },
    {
      "cell_type": "code",
      "execution_count": null,
      "metadata": {
        "collapsed": false
      },
      "outputs": [],
      "source": [
        "from eeg_positions import get_elec_coords, plot_coords"
      ]
    },
    {
      "cell_type": "markdown",
      "metadata": {},
      "source": [
        "Let's start with the basic 10-20 system in two dimensions:\n\n"
      ]
    },
    {
      "cell_type": "code",
      "execution_count": null,
      "metadata": {
        "collapsed": false
      },
      "outputs": [],
      "source": [
        "coords = get_elec_coords(\n    system=\"1020\",\n    dim=\"2d\",\n)"
      ]
    },
    {
      "cell_type": "markdown",
      "metadata": {},
      "source": [
        "This function returns a ``pandas.DataFrame`` object:\n\n"
      ]
    },
    {
      "cell_type": "code",
      "execution_count": null,
      "metadata": {
        "collapsed": false
      },
      "outputs": [],
      "source": [
        "coords.head()"
      ]
    },
    {
      "cell_type": "markdown",
      "metadata": {},
      "source": [
        "Now let's plot these coordinates.\nWe can supply some style arguments to :func:`eeg_positions.plot_coords` to control\nthe color of the electrodes and the text annotations.\n\n"
      ]
    },
    {
      "cell_type": "code",
      "execution_count": null,
      "metadata": {
        "collapsed": false
      },
      "outputs": [],
      "source": [
        "fig, ax = plot_coords(\n    coords, scatter_kwargs={\"color\": \"g\"}, text_kwargs={\"fontsize\": 10}\n)\n\nfig"
      ]
    },
    {
      "cell_type": "markdown",
      "metadata": {},
      "source": [
        "Notice that the \"landmarks\" ``NAS``, ``LPA``, and ``RPA`` are included. We can drop\nthese by passing ``drop_landmarks=True`` to :func:`get_elec_coords`:\n\n"
      ]
    },
    {
      "cell_type": "code",
      "execution_count": null,
      "metadata": {
        "collapsed": false
      },
      "outputs": [],
      "source": [
        "coords = get_elec_coords(\n    system=\"1020\",\n    drop_landmarks=True,\n    dim=\"2d\",\n)\n\nfig, ax = plot_coords(\n    coords, scatter_kwargs={\"color\": \"g\"}, text_kwargs={\"fontsize\": 10}\n)\n\nfig"
      ]
    },
    {
      "cell_type": "markdown",
      "metadata": {},
      "source": [
        "Often, we might have a list of electrode names that we would like to plot. For\nexample, let's assume we have the following 64 channel labels (based on the 10-05\nsystem):\n\n"
      ]
    },
    {
      "cell_type": "code",
      "execution_count": null,
      "metadata": {
        "collapsed": false
      },
      "outputs": [],
      "source": [
        "chans = \"\"\"Fp1 AF7 AF3 F1 F3 F5 F7 Fp2 AF8 AF4 F2 F4 F6 F8 FT7 FC5 FC3\nFC1 C1 C3 C5 T7 TP7 CP5 CP3 CP1 FT8 FC6 FC4 FC2 C2 C4 C6 T8 TP8 CP6 CP4\nCP2 P1 P3 P5 P7 P9 PO7 PO3 O1 P2 P4 P6 P8 P10 PO8 PO4 O2 Iz Oz POz Pz\nFz AFz Fpz CPz Cz FCz\"\"\".split()"
      ]
    },
    {
      "cell_type": "markdown",
      "metadata": {},
      "source": [
        "Many experiments aggregate electrodes into regions of interest (ROIs), which we could\nvisualize with different colors. Let's get their coordinates first:\n\n"
      ]
    },
    {
      "cell_type": "code",
      "execution_count": null,
      "metadata": {
        "collapsed": false
      },
      "outputs": [],
      "source": [
        "coords = get_elec_coords(elec_names=chans)"
      ]
    },
    {
      "cell_type": "markdown",
      "metadata": {},
      "source": [
        "Now we specifiy individual colors using the ``scatter_kwargs``` argument. We create a\nlist of 64 colors corresponding to our 64 coordinates (in the original order as\nprovided by ``chans``):\n\n"
      ]
    },
    {
      "cell_type": "code",
      "execution_count": null,
      "metadata": {
        "collapsed": false
      },
      "outputs": [],
      "source": [
        "colors = (\n    [\"salmon\"] * 14\n    + [\"skyblue\"] * 24\n    + [\"violet\"] * 16\n    + [\"lightgreen\"] * 7\n    + [\"khaki\"] * 3\n)\n\nfig, ax = plot_coords(\n    coords,\n    scatter_kwargs={\n        \"s\": 150,  # electrode size\n        \"color\": colors,\n        \"edgecolors\": \"black\",  # black electrode outline\n        \"linewidths\": 0.5,  # thin outline\n    },\n    text_kwargs={\n        \"ha\": \"center\",  # center electrode label horizontally\n        \"va\": \"center\",  # center electrode label vertically\n        \"fontsize\": 5,  # smaller font size\n    },\n)"
      ]
    },
    {
      "cell_type": "markdown",
      "metadata": {},
      "source": [
        "We can also plot in 3D. Let's pick a system with more electrodes now:\n\n"
      ]
    },
    {
      "cell_type": "code",
      "execution_count": null,
      "metadata": {
        "collapsed": false
      },
      "outputs": [],
      "source": [
        "coords = get_elec_coords(\n    system=\"1010\",\n    drop_landmarks=True,\n    dim=\"3d\",\n)\n\nfig, ax = plot_coords(coords, text_kwargs=dict(fontsize=7))\n\nfig"
      ]
    },
    {
      "cell_type": "markdown",
      "metadata": {},
      "source": [
        "When using these commands from an interactive Python session, try to set\nthe IPython magic ``%matplotlib`` or ``%matplotlib qt``, which will allow you to\nfreely view the 3D plot and rotate the camera.\n\n"
      ]
    }
  ],
  "metadata": {
    "kernelspec": {
      "display_name": "Python 3",
      "language": "python",
      "name": "python3"
    },
    "language_info": {
      "codemirror_mode": {
        "name": "ipython",
        "version": 3
      },
      "file_extension": ".py",
      "mimetype": "text/x-python",
      "name": "python",
      "nbconvert_exporter": "python",
      "pygments_lexer": "ipython3",
      "version": "3.9.13"
    }
  },
  "nbformat": 4,
  "nbformat_minor": 0
}