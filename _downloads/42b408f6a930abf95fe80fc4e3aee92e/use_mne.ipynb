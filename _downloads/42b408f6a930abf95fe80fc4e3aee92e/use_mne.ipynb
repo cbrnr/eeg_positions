{
  "cells": [
    {
      "cell_type": "markdown",
      "metadata": {},
      "source": [
        "\n# Use ``eeg_positions`` with MNE-Python\n\nFor more information, check out these MNE resources:\n\n- https://mne.tools/dev/auto_tutorials/intro/plot_40_sensor_locations.html\n- https://mne.tools/dev/auto_examples/visualization/plot_eeglab_head_sphere.html\n\n.. currentmodule:: eeg_positions\n"
      ]
    },
    {
      "cell_type": "markdown",
      "metadata": {},
      "source": [
        "We start with imports.\n\n"
      ]
    },
    {
      "cell_type": "code",
      "execution_count": null,
      "metadata": {
        "collapsed": false
      },
      "outputs": [],
      "source": [
        "from eeg_positions import get_elec_coords"
      ]
    },
    {
      "cell_type": "markdown",
      "metadata": {},
      "source": [
        "Now we get the positions we want. Note the ``as_mne_montage=True`` argument.\n\n"
      ]
    },
    {
      "cell_type": "code",
      "execution_count": null,
      "metadata": {
        "collapsed": false
      },
      "outputs": [],
      "source": [
        "coords = get_elec_coords(as_mne_montage=True)\n\n# `coords` is an MNE-Python DigMontage object.\nprint(coords)"
      ]
    },
    {
      "cell_type": "markdown",
      "metadata": {},
      "source": [
        "Making use of the :class:`mne.channels.DigMontage` methods, we can visualize\nthe electrode positions.\n\n"
      ]
    },
    {
      "cell_type": "code",
      "execution_count": null,
      "metadata": {
        "collapsed": false
      },
      "outputs": [],
      "source": [
        "coords.plot()"
      ]
    },
    {
      "cell_type": "markdown",
      "metadata": {},
      "source": [
        "Now let's have a look at plotting this in 3D.\n\n"
      ]
    },
    {
      "cell_type": "code",
      "execution_count": null,
      "metadata": {
        "collapsed": false
      },
      "outputs": [],
      "source": [
        "# but let's pick a system that has fewer electrodes\ncoords = get_elec_coords(system=\"1010\", as_mne_montage=True)\n\nfig = coords.plot(kind=\"3d\")\nfig.gca().view_init(azim=70, elev=15)"
      ]
    },
    {
      "cell_type": "markdown",
      "metadata": {},
      "source": [
        "The above plot already looks useful, but you can make it even more useful if you run\nthe code in an interactive session using the Matplotlib Qt backend, because then you\ncan zoom and pan the plot.\n\nFinally, let's make a plot with the equator of the spherical head model\nlying on the ``\"Fpz-T8-Oz-T7\"`` electrode contour line.\nSo far, we only saw it for ``\"Nz-T10-Iz-T9\"``, which is the recommended\ndefault.\n\n"
      ]
    },
    {
      "cell_type": "code",
      "execution_count": null,
      "metadata": {
        "collapsed": false
      },
      "outputs": [],
      "source": [
        "# We are also picking the 10-20 system now\ncoords = get_elec_coords(system=\"1020\", as_mne_montage=True, equator=\"Fpz-T8-Oz-T7\")\n\n# MNE always scales the electrode positions as if the equator were on the\n# \"Nz-T10-Iz-T9\" contour.\n# We need to counteract this by setting ``sphere=\"eeglab\"``, which scales\n# electrode positions as if the equator were on the \"Fpz-T8-Oz-T7\" contour.\ncoords.plot(sphere=\"eeglab\")"
      ]
    }
  ],
  "metadata": {
    "kernelspec": {
      "display_name": "Python 3",
      "language": "python",
      "name": "python3"
    },
    "language_info": {
      "codemirror_mode": {
        "name": "ipython",
        "version": 3
      },
      "file_extension": ".py",
      "mimetype": "text/x-python",
      "name": "python",
      "nbconvert_exporter": "python",
      "pygments_lexer": "ipython3",
      "version": "3.10.13"
    }
  },
  "nbformat": 4,
  "nbformat_minor": 0
}